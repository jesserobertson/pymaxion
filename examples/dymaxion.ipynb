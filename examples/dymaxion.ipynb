{
 "metadata": {
  "kernelspec": {
   "display_name": "Python 3",
   "language": "python",
   "name": "python3"
  },
  "language_info": {
   "codemirror_mode": {
    "name": "ipython",
    "version": 3
   },
   "file_extension": ".py",
   "mimetype": "text/x-python",
   "name": "python",
   "nbconvert_exporter": "python",
   "pygments_lexer": "ipython3",
   "version": "3.4.3"
  },
  "name": ""
 },
 "nbformat": 3,
 "nbformat_minor": 0,
 "worksheets": [
  {
   "cells": [
    {
     "cell_type": "code",
     "collapsed": true,
     "input": [
      "%matplotlib inline\n",
      "\n",
      "import numpy, numba\n",
      "import shapely.geometry, shapely.ops\n",
      "import fiona\n",
      "import collections\n",
      "import descartes\n",
      "import matplotlib.pyplot as plt\n",
      "import scipy.spatial\n",
      "\n",
      "from pymaxion import DymaxionProjection"
     ],
     "language": "python",
     "metadata": {},
     "outputs": []
    },
    {
     "cell_type": "raw",
     "metadata": {},
     "outputs": [],
     "source": [
      "!rm -f ne_10m_admin_0_map_subunits*\n",
      "!rm -r ne_10m_coastline*\n",
      "!wget http://www.naturalearthdata.com/http//www.naturalearthdata.com/download/10m/cultural/ne_10m_admin_0_map_subunits.zip\n",
      "!wget http://www.naturalearthdata.com/http//www.naturalearthdata.com/download/10m/physical/ne_10m_coastline.zip\n",
      "!unzip ne_10m_admin_0_map_subunits.zip\n",
      "!unzip ne_10m_coastline.zip"
     ]
    },
    {
     "cell_type": "code",
     "collapsed": false,
     "input": [
      "shapes = []\n",
      "with fiona.drivers():\n",
      "    with fiona.open('ne_10m_admin_0_map_subunits.shp', 'r') as source:\n",
      "        for s in source:\n",
      "            if s['properties']['ADMIN'] == 'Australia':\n",
      "                shapes.append(shapely.geometry.asShape(s['geometry']))\n",
      "country = shapely.ops.cascaded_union(shapes)"
     ],
     "language": "python",
     "metadata": {},
     "outputs": []
    },
    {
     "cell_type": "code",
     "collapsed": false,
     "input": [
      "country"
     ],
     "language": "python",
     "metadata": {},
     "outputs": []
    },
    {
     "cell_type": "code",
     "collapsed": false,
     "input": [
      "proj = DymaxionProjection()\n",
      "proj.plot_polygon()"
     ],
     "language": "python",
     "metadata": {},
     "outputs": []
    },
    {
     "cell_type": "code",
     "collapsed": true,
     "input": [
      "from pymaxion.rotations import rotate"
     ],
     "language": "python",
     "metadata": {},
     "outputs": []
    },
    {
     "cell_type": "code",
     "collapsed": false,
     "input": [
      "points = numpy.vstack(shape.boundary.xy)\n",
      "plt.plot(*points, color='red')\n",
      "plt.plot(*rotate(points, -300), color='blue')\n",
      "\n",
      "point = points[:, 0]\n",
      "plt.plot(*point, color='red', marker='o')\n",
      "plt.plot(*rotate(point, -300), color='blue', marker='o')"
     ],
     "language": "python",
     "metadata": {},
     "outputs": []
    },
    {
     "cell_type": "code",
     "collapsed": false,
     "input": [
      "[1]"
     ],
     "language": "python",
     "metadata": {},
     "outputs": []
    },
    {
     "cell_type": "code",
     "collapsed": true,
     "input": [
      "sqrt3 / 2"
     ],
     "language": "python",
     "metadata": {},
     "outputs": []
    },
    {
     "cell_type": "code",
     "collapsed": false,
     "input": [
      "\n",
      "# Set up initial shape\n",
      "sqrt3 = numpy.sqrt(3)\n",
      "shape = shapely.geometry.Polygon([[0, 1 / sqrt3], [1 / 2, -1 / (2*sqrt3)], [-1 / 2, -1 / (2*sqrt3)]])\n",
      "\n",
      "axes = plt.gca()\n",
      "axes.add_patch(descartes.PolygonPatch(\n",
      "        shape, facecolor='white', edgecolor='black', alpha=0.7))\n",
      "axes.plot(*shape.centroid.xy, color='red', marker='o')\n",
      "axes.set_xlim(-1.1, 1.1)\n",
      "axes.set_ylim(-0.1, sqrt3)\n",
      "axes.set_aspect('equal')"
     ],
     "language": "python",
     "metadata": {},
     "outputs": []
    },
    {
     "cell_type": "code",
     "collapsed": false,
     "input": [
      "from shapely.geometry import Polygon\n",
      "\n",
      "# Set up initial shape\n",
      "sqrt3 = numpy.sqrt(3)\n",
      "shape = shapely.geometry.Polygon([[0, 1 / sqrt3], [1 / 2, -1 / (2*sqrt3)], [-1 / 2, -1 / (2*sqrt3)]])\n",
      "\n",
      "# Plot initial shape\n",
      "axes = plt.gca()\n",
      "axes.add_patch(descartes.PolygonPatch(\n",
      "        shape, facecolor='white', edgecolor='black', alpha=0.7))\n",
      "axes.plot(*shape.centroid.xy, color='red', marker='o')\n",
      "axes.set_xlim(-1.1, 1.1)\n",
      "axes.set_ylim(-0.1, sqrt3)\n",
      "axes.set_aspect('equal')\n",
      "\n",
      "proj = DymaxionProjection()\n",
      "points = numpy.vstack(shape.boundary.xy)\n",
      "axes = plt.gca()\n",
      "cmap = plt.get_cmap('coolwarm')\n",
      "for idx, transform in proj.transformations.items():\n",
      "    # Get conditional transform\n",
      "    if not transform:\n",
      "        transform = proj.conditional_transformations[idx][True]\n",
      "\n",
      "    # Plot results\n",
      "    color = cmap(idx / len(proj.transformations))\n",
      "    poly = Polygon(rotate(points, transform['rotation']).transpose()\n",
      "                   + transform['translation'])\n",
      "    axes.add_patch(descartes.PolygonPatch(\n",
      "        poly, facecolor=color, edgecolor='black', alpha=0.7))\n",
      "    axes.text(poly.centroid.x, poly.centroid.y, s=idx)\n",
      "\n",
      "axes.set_xlim(-1, 6)\n",
      "axes.set_ylim(-1, 3)\n",
      "axes.set_aspect('equal')\n",
      "axes.set_axis_off()"
     ],
     "language": "python",
     "metadata": {
      "scrolled": false
     },
     "outputs": []
    },
    {
     "cell_type": "code",
     "collapsed": false,
     "input": [
      "npoints = 10000\n",
      "latitudes = numpy.random.uniform(0, 180, size=npoints)\n",
      "longitudes = numpy.random.uniform(-180, 180, size=npoints)\n",
      "plt.plot(longitudes, latitudes, '.')\n",
      "plt.figure()\n",
      "transformed = proj(latitudes=latitudes, longitudes=longitudes)\n",
      "plt.plot(*transformed, marker='.')"
     ],
     "language": "python",
     "metadata": {
      "scrolled": false
     },
     "outputs": []
    },
    {
     "cell_type": "code",
     "collapsed": true,
     "input": [],
     "language": "python",
     "metadata": {},
     "outputs": []
    }
   ],
   "metadata": {}
  }
 ]
}