{
 "metadata": {
  "kernelspec": {
   "display_name": "Python 3",
   "language": "python",
   "name": "python3"
  },
  "language_info": {
   "codemirror_mode": {
    "name": "ipython",
    "version": 3
   },
   "file_extension": ".py",
   "mimetype": "text/x-python",
   "name": "python",
   "nbconvert_exporter": "python",
   "pygments_lexer": "ipython3",
   "version": "3.4.3"
  },
  "name": ""
 },
 "nbformat": 3,
 "nbformat_minor": 0,
 "worksheets": [
  {
   "cells": [
    {
     "cell_type": "code",
     "collapsed": true,
     "input": [
      "%matplotlib inline\n",
      "\n",
      "import numpy, numba\n",
      "import shapely.geometry, shapely.ops\n",
      "import fiona\n",
      "import collections\n",
      "import descartes\n",
      "import matplotlib.pyplot as plt\n",
      "import scipy.spatial"
     ],
     "language": "python",
     "metadata": {},
     "outputs": []
    },
    {
     "cell_type": "code",
     "collapsed": false,
     "input": [
      "shapes = []\n",
      "with fiona.drivers():\n",
      "    with fiona.open('ne_10m_admin_0_map_subunits.shp', 'r') as source:\n",
      "        for s in source:\n",
      "            if s['properties']['ADMIN'] == 'Australia':\n",
      "                shapes.append(shapely.geometry.asShape(s['geometry']))\n",
      "country = shapely.ops.cascaded_union(shapes)"
     ],
     "language": "python",
     "metadata": {},
     "outputs": []
    },
    {
     "cell_type": "code",
     "collapsed": false,
     "input": [
      "country"
     ],
     "language": "python",
     "metadata": {},
     "outputs": []
    },
    {
     "cell_type": "code",
     "collapsed": false,
     "input": [
      "%matplotlib inline\n",
      "\n",
      "import numpy\n",
      "import shapely.geometry\n",
      "import descartes\n",
      "import matplotlib.pyplot as plt\n",
      "import scipy.spatial\n",
      "from dymaxion import *"
     ],
     "language": "python",
     "metadata": {},
     "outputs": []
    },
    {
     "cell_type": "code",
     "collapsed": false,
     "input": [
      "proj = DymaxionProjection()\n",
      "proj.plot_polygon()"
     ],
     "language": "python",
     "metadata": {},
     "outputs": []
    },
    {
     "cell_type": "code",
     "collapsed": false,
     "input": [
      "npoints = 10000\n",
      "latitudes = numpy.random.uniform(0, 180, size=npoints)\n",
      "longitudes = numpy.random.uniform(-180, 180, size=npoints)\n",
      "plt.plot(longitudes, latitudes, '.')\n",
      "plt.figure()\n",
      "transformed = proj(latitudes=latitudes, longitudes=longitudes)\n",
      "plt.plot(*transformed, marker='.')"
     ],
     "language": "python",
     "metadata": {
      "scrolled": false
     },
     "outputs": []
    },
    {
     "cell_type": "code",
     "collapsed": false,
     "input": [
      "import numpy\n",
      "array = numpy.array([\n",
      "        [1, 3, 2],   [1, 4, 3],    [1, 5, 4],   [1, 6, 5],\n",
      "        [1, 2, 6],   [2, 3, 8],    [3, 9, 8],   [3, 4, 9],\n",
      "        [4, 10, 9],  [4, 5, 10],   [5, 11, 10], [5, 6, 11],\n",
      "        [6, 7, 11],  [2, 7, 6],    [2, 8, 7],   [8, 9, 12],\n",
      "        [9, 10, 12], [10, 11, 12], [11, 7, 12], [8, 12, 7]\n",
      "    ], dtype=int)"
     ],
     "language": "python",
     "metadata": {},
     "outputs": []
    },
    {
     "cell_type": "code",
     "collapsed": false,
     "input": [
      "array - 1"
     ],
     "language": "python",
     "metadata": {},
     "outputs": []
    },
    {
     "cell_type": "code",
     "collapsed": true,
     "input": [
      "import numpy, scipy.sparse\n",
      "\n",
      "def rotation_matrix(angles_list=None, angles_array=None):\n",
      "    \"\"\" Returns a rotation matrix in n dimensions\n",
      "\n",
      "        The combined rotation array is build up by left-multiplying the\n",
      "        preexisting rotation array by the rotation around a given axis.\n",
      "        For a $d$-dimensional array, this is given by:\n",
      "\n",
      "        $$ C(\\theta) = R(\\theta_{d, d-1})R(\\theta_{d, d-2})\\times\\ldots\\times\n",
      "            R(\\theta_{i, j})\\times\\ldots R(\\theta_{1, 2})$$\n",
      "\n",
      "        where $i$ and $j$ are positive integers ranging from 1 to $d$, and\n",
      "        satisfy $i \\leq j$.\n",
      "    \"\"\"\n",
      "    # Check inputs\n",
      "    if angles_list is not None and angles_array is not None:\n",
      "        raise ValueError('You should only supply one of the angles_list'\n",
      "                         ' or angles_array arguments to rotation_matrix')\n",
      "\n",
      "    elif angles_list is not None:\n",
      "        # Make sure that we have the right number of angles supplied,\n",
      "        # guess the dimension required\n",
      "        dimension_estimate = int(1 + numpy.sqrt(1 + 8 * len(angles_list))) // 2\n",
      "        checks = [int(dimension_estimate) - 1, int(dimension_estimate)]\n",
      "        allowed_angles = map(lambda d: d * (d - 1) / 2, checks)\n",
      "        if len(angles_list) not in allowed_angles:\n",
      "            err_string = (\n",
      "                'Wrong number of angles ({0}) supplied to rotation_matrix - '\n",
      "                'you should specify d*(d-1)/2 angles for a d-dimensional '\n",
      "                'rotation matrix (i.e. {1[0]} angles for d={2[0]} or {1[1]} '\n",
      "                'angles for d={2[1]})'\n",
      "            ).format(len(angles_list), checks, allowed_angles)\n",
      "            raise ValueError(err_string)\n",
      "        else:\n",
      "            dim = dimension_estimate\n",
      "\n",
      "        # Generate angles array from list\n",
      "        angles_array = numpy.zeros((dim, dim))\n",
      "        angles_gen = (a for a in angles_list)\n",
      "        for idx, _ in numpy.ndenumerate(angles_array):\n",
      "            if idx[0] > idx[1]:\n",
      "                angles_array[idx] = next(angles_gen)\n",
      "\n",
      "    elif angles_array is not None:\n",
      "        angles_array = numpy.asarray(angles_array)\n",
      "        dim = angles_array.shape[0]\n",
      "\n",
      "    # Generate rotation matrix\n",
      "    identity = scipy.sparse.identity(dim, format='lil')\n",
      "    combined = identity.copy()\n",
      "    for idx, angle in numpy.ndenumerate(angles_array):\n",
      "        # Make sure we're on the lower-diagonal part of the angles array\n",
      "        if idx[0] <= idx[1]:\n",
      "            continue\n",
      "\n",
      "        # Build non-zero elements of rotation matrix using Givens rotations\n",
      "        # see: https://en.wikipedia.org/wiki/Givens_rotation\n",
      "        rotation = identity.copy()\n",
      "        rotation[idx[0], idx[0]] = numpy.cos(angle)\n",
      "        rotation[idx[1], idx[1]] = numpy.cos(angle)\n",
      "        rotation[idx[0], idx[1]] = numpy.sin(angle)\n",
      "        rotation[idx[1], idx[0]] = -numpy.sin(angle)\n",
      "\n",
      "        # Build combined rotation matrix\n",
      "        combined = combined.dot(rotation)\n",
      "\n",
      "    return combined.todense()\n",
      "\n",
      "def rotate_about_axis(angles):\n",
      "    rot = rotation_matrix(numpy.radians(angles[::-1]))"
     ],
     "language": "python",
     "metadata": {},
     "outputs": []
    },
    {
     "cell_type": "code",
     "collapsed": false,
     "input": [
      "angles = (0, 0, 45)\n",
      "rotation_matrix(numpy.radians(angles[::-1]))"
     ],
     "language": "python",
     "metadata": {},
     "outputs": []
    },
    {
     "cell_type": "code",
     "collapsed": false,
     "input": [
      "rotation_matrix([45])"
     ],
     "language": "python",
     "metadata": {},
     "outputs": []
    },
    {
     "cell_type": "code",
     "collapsed": true,
     "input": [],
     "language": "python",
     "metadata": {},
     "outputs": []
    }
   ],
   "metadata": {}
  }
 ]
}