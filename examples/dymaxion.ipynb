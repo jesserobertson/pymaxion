{
 "cells": [
  {
   "cell_type": "code",
   "execution_count": 1,
   "metadata": {
    "collapsed": false
   },
   "outputs": [],
   "source": [
    "%matplotlib inline\n",
    "\n",
    "import numpy\n",
    "import shapely.geometry, shapely.ops\n",
    "import fiona\n",
    "import collections\n",
    "import descartes\n",
    "import matplotlib.pyplot as plt\n",
    "import scipy.spatial"
   ]
  },
  {
   "cell_type": "code",
   "execution_count": 2,
   "metadata": {
    "collapsed": true
   },
   "outputs": [],
   "source": [
    "# !rm -r ne_110m_land*\n",
    "# !wget http://www.naturalearthdata.com/http//www.naturalearthdata.com/download/110m/physical/ne_110m_land.zip\n",
    "# !unzip ne_110m_land.zip"
   ]
  },
  {
   "cell_type": "code",
   "execution_count": 3,
   "metadata": {
    "collapsed": false
   },
   "outputs": [],
   "source": [
    "shapes = []\n",
    "bbox = (0, -90, 180, 90)\n",
    "\n",
    "def get_land(bbox=None): \n",
    "    # Load up shape data from shapefile\n",
    "    with fiona.drivers():\n",
    "        with fiona.open('ne_110m_land.shp') as source:\n",
    "            if bbox:\n",
    "                source = source.filter(bbox=bbox)\n",
    "            shapes = shapely.ops.cascaded_union([\n",
    "                      shapely.geometry.asShape(s['geometry'])\n",
    "                      for s in source])\n",
    "    \n",
    "    # There's a small issue with part of the polygon for North \n",
    "    # America, we'll just clip it out for now\n",
    "    shapes = shapes.difference(shapely.geometry.box(-132.71, 54.04, -132.72, 54.05))\n",
    "            \n",
    "    # Clip if we've got something to clip\n",
    "    if bbox:\n",
    "        bbox_shape = shapely.geometry.box(*bbox)\n",
    "        return shapes.intersection(bbox_shape)\n",
    "    else:\n",
    "        return shapes"
   ]
  },
  {
   "cell_type": "code",
   "execution_count": 4,
   "metadata": {
    "collapsed": true
   },
   "outputs": [],
   "source": [
    "def make_grid(bbox, npoints, graticule_spacing):\n",
    "    \"\"\" Make some graticule LineStrings\n",
    "    \"\"\"\n",
    "    longitudes = numpy.linspace(bbox[0], bbox[2], npoints)\n",
    "    latitudes = numpy.linspace(bbox[1], bbox[3], npoints)\n",
    "    return shapely.geometry.MultiLineString(\n",
    "        [LineString(numpy.transpose([longitudes, latitude * numpy.ones(len(longitudes))]))\n",
    "         for latitude in latitudes[::int(npoints / graticule_spacing)]] +\n",
    "        [LineString(numpy.transpose([longitude * numpy.ones(len(latitudes)), latitudes]))\n",
    "         for longitude in longitudes[::int(npoints / graticule_spacing)]])\n",
    "\n",
    "def plot_graticules(graticules, axes=None):\n",
    "    axes = axes or plt.gca()\n",
    "    for graticule in graticules:\n",
    "        axes.plot(*graticule.xy, \n",
    "                  dashes=(4, 2), \n",
    "                  color='gray', \n",
    "                  zorder=0)\n",
    "\n",
    "def plot_land(land, axes=None):\n",
    "    axes = axes or plt.gca()\n",
    "    for shape in land:\n",
    "        axes.add_patch(descartes.PolygonPatch(\n",
    "                shape,\n",
    "                facecolor='white', \n",
    "                edgecolor='black', \n",
    "                zorder=2))\n",
    "\n",
    "def plot_centre(centre, axes=None):\n",
    "    axes = axes or plt.gca()\n",
    "    centre_fmt = dict(markeredgecolor='red', markerfacecolor='red', marker='o')\n",
    "    plt.plot(*centre.xy, **centre_fmt)\n",
    "\n",
    "def fix_axes(bbox_shape, axes=None):\n",
    "    axes = axes or plt.gca()\n",
    "    axes.set_axis_off()\n",
    "    axes.set_aspect('equal')\n",
    "    \n",
    "    # Set limits from shape\n",
    "    coords = numpy.asarray(bbox_shape.boundary.coords)\n",
    "    xmin, ymin = coords.min(axis=0)\n",
    "    xmax, ymax = coords.max(axis=0)\n",
    "    axes.set_xlim(xmin, xmax)\n",
    "    axes.set_ylim(ymin, ymax)"
   ]
  },
  {
   "cell_type": "code",
   "execution_count": 5,
   "metadata": {
    "collapsed": false,
    "scrolled": false
   },
   "outputs": [],
   "source": [
    "from shapely.geometry import Polygon, LineString, Point\n",
    "\n",
    "bbox = (-180, -90, 180, 90)\n",
    "bbox_shape = shapely.geometry.box(*bbox)\n",
    "\n",
    "graticules = make_grid(bbox=bbox, npoints=200, graticule_spacing=20)\n",
    "centre = Point([0, 0])\n",
    "land = get_land(bbox)"
   ]
  },
  {
   "cell_type": "raw",
   "metadata": {},
   "source": [
    "plot_graticules(graticules)\n",
    "plot_land(land)\n",
    "plot_centre(centre)\n",
    "fix_axes(bbox_shape)"
   ]
  },
  {
   "cell_type": "code",
   "execution_count": 6,
   "metadata": {
    "collapsed": false
   },
   "outputs": [],
   "source": [
    "area_idx = numpy.argsort([l.area for l in land])\n",
    "shapes = shapely.geometry.MultiPolygon([land[int(i)] for i in area_idx[-1:-7:-1]])"
   ]
  },
  {
   "cell_type": "code",
   "execution_count": 7,
   "metadata": {
    "collapsed": false
   },
   "outputs": [],
   "source": [
    "from numpy import sin, cos, degrees, radians, arcsin, arctan, arctan2, \\\n",
    "                  sqrt, newaxis, asarray\n",
    "\n",
    "def get_coords_as_array(shape):\n",
    "    \"\"\" Get the coordinates from a Shapely geometry as a 2 by N numpy array,\n",
    "        where N is the number of points defining the boundary or line.\n",
    "        \n",
    "        Arguments:\n",
    "            shape - a Shapely geometry, from shapely.geometry.*\n",
    "        \n",
    "        Returns: \n",
    "            points - either a 2 by N numpy array (where the geometry is a single\n",
    "                shape), or a list of 2 by N numpy arrays (where the shape's\n",
    "                geometry has multiple parts\n",
    "        \n",
    "    \"\"\"\n",
    "    # Proceed as if we have a Ring or LineString\n",
    "    if shape.type in ('LineString', 'Point'):\n",
    "        return numpy.asarray(shape.coords).transpose()\n",
    "    elif shape.type is 'Polygon':\n",
    "        return get_coords_as_array(shape.boundary)\n",
    "    elif shape.type.startswith('Multi'):\n",
    "        return [get_coords_as_array(s) for s in shape]\n",
    "    else:\n",
    "        raise NotImplementedError(\n",
    "            \"Can't do anything with geometry of type {0}\".format(shape.type))\n",
    "\n",
    "def sterographic_projection(centre, points):\n",
    "    \"\"\" Transform function for points using a stereographic projection\n",
    "        centred on the given centre\n",
    "    \"\"\"\n",
    "    theta_c, phi_c = radians(centre)\n",
    "    scale = 2 / (1 + sin(phi_c) * sin(phi) + cos(phi_c) * cos(phi) * cos(theta - theta_c))\n",
    "    x = scale * cos(phi) * sin(theta - theta_c)\n",
    "    y = scale * (cos(phi_c) * sin(phi) - sin(phi_c) * cos(phi) * cos(theta - theta_c))\n",
    "    return x, y\n",
    "\n",
    "def gnomonic_projection(centre, points):\n",
    "    \"\"\" Transform points using a gnominic projection with centre point centre.\n",
    "        \n",
    "        All points should be given in degrees longitude and degrees latitude\n",
    "\n",
    "        Arguments:\n",
    "            centre - the centre point of the projection - this is \n",
    "                where the gnominic plane touches the surface of the \n",
    "                earth. Given as a tuple of longitude and latitude in degrees\n",
    "        \n",
    "        Returns:\n",
    "            a function to transform a point into the projective plane\n",
    "    \"\"\"\n",
    "    theta_c, phi_c = radians(centre)\n",
    "    theta, phi = radians(points)\n",
    "    scale = 1 / (sin(phi_c) * sin(phi) + cos(phi_c) * cos(phi) * cos(theta - theta_c))\n",
    "    x = scale * cos(phi) * sin(theta - theta_c)\n",
    "    y = scale * (cos(phi_c) * sin(phi) - sin(phi_c) * cos(phi) * cos(theta - theta_c))\n",
    "    return numpy.vstack([x, y])\n",
    "\n",
    "def inverse_gnomonic_projection(centre):\n",
    "    \"\"\" Transform points from the gnomonic plane with centre point centre\n",
    "    \"\"\"\n",
    "    θc, ϕc = radians(centre)\n",
    "    def _transform_fn(x, y):\n",
    "        ρ = numpy.sqrt(x ** 2 + y ** 2)\n",
    "        α = numpy.arctan(ρ)\n",
    "        θ = θc + numpy.arctan2(x * sin(α),\n",
    "                               ρ * cos(ϕc) * cos(α) - y * sin(ϕc) * sin(α))\n",
    "        ϕ = numpy.arcsin(cos(α) * sin(ϕc) + (y + sin(α) * cos(ϕc)) / ρ)\n",
    "        return θ, ϕ\n",
    "    return _transform_fn"
   ]
  },
  {
   "cell_type": "code",
   "execution_count": 8,
   "metadata": {
    "collapsed": true
   },
   "outputs": [],
   "source": [
    "import pymaxion\n",
    "from pymaxion.rotations import rotation_matrix\n",
    "from pymaxion.conversions import cartesian_to_spherical, spherical_to_cartesian\n",
    "\n",
    "from mpl_toolkits.mplot3d import Axes3D"
   ]
  },
  {
   "cell_type": "raw",
   "metadata": {
    "collapsed": false
   },
   "source": [
    "fig = plt.figure()\n",
    "ax1 = fig.add_subplot(111, projection='3d')\n",
    "ax1.set_zlim(-1, 1)\n",
    "ax1.set_aspect('equal')\n",
    "fig = plt.figure()\n",
    "ax2 = fig.gca()\n",
    "ax2.set_aspect('equal')\n",
    "\n",
    "for graticule in graticules:\n",
    "    points = numpy.radians(graticule.coords).transpose()\n",
    "    points = spherical_to_cartesian(points)\n",
    "    ax1.plot(*points, color='gray', dashes=(4, 2), alpha=0.5)\n",
    "    points = cartesian_to_spherical(points)\n",
    "    ax2.plot(*points, color='gray', dashes=(4, 2), alpha=0.5)\n",
    "    assert(numpy.allclose(numpy.radians(graticule.coords).transpose(),\n",
    "                   points))\n",
    "\n",
    "for boundary in shapes.boundary:\n",
    "    points = numpy.radians(boundary.coords).transpose()\n",
    "    points = spherical_to_cartesian(points)\n",
    "    ax1.plot(*points, color='black', linewidth=2)\n",
    "    points = cartesian_to_spherical(points)\n",
    "    ax2.plot(*points)\n",
    "    assert(numpy.allclose(numpy.radians(boundary.coords).transpose(),\n",
    "                   points))"
   ]
  },
  {
   "cell_type": "code",
   "execution_count": null,
   "metadata": {
    "collapsed": false
   },
   "outputs": [],
   "source": [
    "a = numpy.radians(45)\n",
    "rot1 = pymaxion.rotations.rotation_matrix([a, 0, 0])\n",
    "rot2 = pymaxion.rotations.rotation_matrix([0, 0, a])\n",
    "assert(numpy.allclose(numpy.dot(rot1, rot2), pymaxion.rotations.rotation_matrix([a, 0, a])))"
   ]
  },
  {
   "cell_type": "code",
   "execution_count": null,
   "metadata": {
    "collapsed": false
   },
   "outputs": [],
   "source": [
    "import itertools\n",
    "\n",
    "fig1 = plt.figure(figsize=(11,11))\n",
    "ax1 = fig1.add_subplot(111, projection='3d')\n",
    "ax1.set_zlim(-1, 1)\n",
    "fig2 = plt.figure(figsize=(11,11))\n",
    "ax2 = fig2.add_subplot(111, projection='3d')\n",
    "ax2.set_zlim(-1, 1)\n",
    "\n",
    "proj = pymaxion.DymaxionProjection()\n",
    "nfaces = len(proj.faces)\n",
    "cmap = plt.get_cmap('coolwarm')\n",
    "final_faces = []\n",
    "for face_idx in range(nfaces):\n",
    "    color = cmap(face_idx / nfaces)\n",
    "    rotation = proj.face_rotation_matrices[face_idx]\n",
    "    transform = lambda pt: numpy.dot(rotation, pt)\n",
    "\n",
    "    # Now we can plot these up\n",
    "    vertex = proj.vertices[proj.faces[face_idx][0]] \n",
    "    center = proj.face_centres[face_idx]\n",
    "    face_points = proj.vertices[proj.faces[face_idx]]\n",
    "    face_points = numpy.vstack([face_points, face_points[0]]).transpose()\n",
    "    ax1.plot(*center[numpy.newaxis].transpose(), color=color, marker='o')\n",
    "    ax1.plot(*face_points, color=color, linewidth=2)\n",
    "    ax1.plot(*vertex[numpy.newaxis].transpose(), color=color, marker='s')\n",
    "    center = transform(center)\n",
    "    vertex = transform(vertex)\n",
    "    face_points = transform(face_points)\n",
    "    ax2.plot(*center[numpy.newaxis].transpose(), color=color, marker='o')\n",
    "    ax2.plot(*face_points, color=color, linewidth=2)\n",
    "    ax2.plot(*vertex[numpy.newaxis].transpose(), color=color, marker='s')\n",
    "    final_faces.append(face_points)\n",
    "\n",
    "# Check that we have all our values in the right place\n",
    "assert(numpy.allclose(a, b) for a, b in itertools.combinations(final_faces, 2))\n",
    "    \n",
    "gfmt = dict(color='gray', dashes=(4, 2), alpha=0.5)\n",
    "sfmt = dict(color='black', linewidth=2)\n",
    "for collection, fmt in [(graticules, gfmt), (shapes.boundary, sfmt)]:\n",
    "    for line in collection:\n",
    "        points = numpy.radians(line.coords).transpose()\n",
    "        points = spherical_to_cartesian(*points)\n",
    "        ax1.plot(*points, **fmt)\n",
    "        ax2.plot(*points, **fmt)\n",
    "fig1.savefig('initial_faces.png')\n",
    "fig2.savefig('final_faces_after_rotation.png')"
   ]
  },
  {
   "cell_type": "code",
   "execution_count": null,
   "metadata": {
    "collapsed": false
   },
   "outputs": [],
   "source": [
    "face_idx = 5\n",
    "transform = lambda pts: \\\n",
    "    numpy.dot(proj.face_rotation_matrices[face_idx], pts)\n",
    "\n",
    "fig1 = plt.figure(figsize=(11,11))\n",
    "ax1 = fig1.add_subplot(111, projection='3d')\n",
    "ax1.set_zlim(-1, 1)\n",
    "\n",
    "# formats\n",
    "gfmt = dict(color='gray', dashes=(4, 2), alpha=0.5)\n",
    "lfmt = dict(color='gray', linewidth=2)\n",
    "ffmt = dict(color='red', linewidth=2)\n",
    "\n",
    "# Plot face location\n",
    "face_points = proj.vertices[proj.faces[face_idx]]\n",
    "face_points = numpy.vstack([face_points, face_points[0]]).transpose()\n",
    "face_points = transform(face_points)\n",
    "ax1.plot(*face_points, **ffmt)\n",
    "\n",
    "# Make plots\n",
    "for collection, fmt in ((graticules, gfmt), (shapes.boundary, lfmt)):\n",
    "    for geom in collection:\n",
    "        points = numpy.radians(geom.coords).transpose()\n",
    "        points = spherical_to_cartesian(*points)\n",
    "        points = transform(points)\n",
    "        ax1.plot(*points, **fmt)"
   ]
  },
  {
   "cell_type": "code",
   "execution_count": null,
   "metadata": {
    "collapsed": false,
    "scrolled": false
   },
   "outputs": [],
   "source": [
    "bbox = (-45, -30, 45, 90)\n",
    "centre = [0, 0]\n",
    "\n",
    "from pymaxion.projections import gnomonic_projection, sterographic_projection\n",
    "gnom = gnomonic_projection(*centre, longlat=True)\n",
    "stereo = sterographic_projection(*centre, longlat=True)\n",
    "ident = lambda *x: x\n",
    "\n",
    "def make_map(bbox, centre=None, transform=None, xlim=None, ylim=None):\n",
    "    # Deal with arguments\n",
    "    transform = transform or ident\n",
    "    if centre is None:\n",
    "        centre = (0, 0)\n",
    "    bbox_shape = shapely.geometry.box(*bbox)\n",
    "\n",
    "    # Make some graticules, get land info, make centre\n",
    "    graticules = make_grid(bbox=bbox, npoints=200, graticule_spacing=20)\n",
    "    land = get_land(bbox)\n",
    "    centre = shapely.geometry.Point(centre)\n",
    "\n",
    "    # Generate map\n",
    "    fig = plt.figure(figsize=(11, 11))\n",
    "    axes = fig.gca()\n",
    "    plot_graticules(shapely.ops.transform(transform, graticules))\n",
    "    plot_land(shapely.ops.transform(transform, land))\n",
    "    plot_centre(shapely.ops.transform(transform, shapely.geometry.Point(centre)))\n",
    "    fix_axes(bbox_shape)\n",
    "    if xlim:\n",
    "        axes.set_xlim(*xlim)\n",
    "    if ylim:\n",
    "        axes.set_ylim(*ylim)\n",
    "\n",
    "make_map(bbox, centre=centre)\n",
    "make_map(bbox, centre=centre, transform=gnom, xlim=(-1, 1), ylim=(-1, 1))\n",
    "make_map(bbox, centre=centre, transform=stereo, xlim=(-1, 1), ylim=(-1, 1))"
   ]
  },
  {
   "cell_type": "code",
   "execution_count": null,
   "metadata": {
    "collapsed": false
   },
   "outputs": [],
   "source": [
    "import pymaxion"
   ]
  },
  {
   "cell_type": "code",
   "execution_count": null,
   "metadata": {
    "collapsed": false
   },
   "outputs": [],
   "source": [
    "from pymaxion.conversions import cartesian_to_spherical\n",
    "import itertools\n",
    "import descartes\n",
    "\n",
    "fig = plt.figure(figsize=(11, 11))\n",
    "bbox = (-180, -90, 180, 90)\n",
    "make_map(bbox, transform=stereo, centre=None)\n",
    "bbox_shape = shapely.geometry.box(*bbox)\n",
    "axes = plt.gca()\n",
    "cmap = plt.get_cmap('coolwarm')\n",
    "\n",
    "for idx, poly in enumerate(proj.latlong_faces):    \n",
    "    # Plot the polygon\n",
    "    poly = shapely.ops.transform(stereo, poly).intersection(bbox_shape)\n",
    "    color = cmap(idx / len(proj.faces))\n",
    "    axes.add_patch(descartes.PolygonPatch(poly, facecolor=color, edgecolor=color, alpha=0.3, zorder=10))\n",
    "    \n",
    "    # Plot centre point\n",
    "    centre = shapely.geometry.Point(\n",
    "        numpy.degrees(cartesian_to_spherical(*proj.face_centres[idx])))\n",
    "    centre = shapely.ops.transform(stereo, centre)\n",
    "    x, y = numpy.asarray(centre.coords).ravel()\n",
    "    axes.plot(x, y, marker='o', color=color)\n",
    "    axes.text(x, y, s='Index {0}'.format(idx))\n",
    "axes.set_xlim(-5, 5)\n",
    "axes.set_ylim(-3, 3)"
   ]
  },
  {
   "cell_type": "code",
   "execution_count": null,
   "metadata": {
    "collapsed": true
   },
   "outputs": [],
   "source": [
    "face_idx = 0"
   ]
  },
  {
   "cell_type": "code",
   "execution_count": null,
   "metadata": {
    "collapsed": true
   },
   "outputs": [],
   "source": [
    "def remap(longitude, latitude):\n",
    "    \"\"\" Maps latitudes and longitudes onto the correct values\n",
    "    \"\"\"\n",
    "    longitude, latitude = numpy.asarray(longitude), numpy.asarray(latitude)\n",
    "    longitude[longitude > 180] -= 360\n",
    "    longitude[longitude < -180] += 360\n",
    "    latitude[latitude > 90] -= 180\n",
    "    latitude[latitude < -90] += 180\n",
    "    return longitude, latitude\n",
    "\n",
    "def translate(dx, dy):\n",
    "    \"\"\" Returns a transformation which translates the \n",
    "        map through a given change in longitude and latitude.\n",
    "    \"\"\"\n",
    "    dx, dy = remap(dx, dy)\n",
    "    def _transform(x, y):\n",
    "        return remap(x + dx, y + dy)\n",
    "    return _transform"
   ]
  },
  {
   "cell_type": "code",
   "execution_count": null,
   "metadata": {
    "collapsed": false,
    "scrolled": false
   },
   "outputs": [],
   "source": [
    "land = get_land()\n",
    "gnom = gnomonic_projection([0, 0])\n",
    "bounds = shapely.geometry.box(-45, -45, 45, 45)\n",
    "centres = [numpy.degrees(cartesian_to_spherical(c)).ravel()\n",
    "           for c in proj.face_centres]\n",
    "print(centres)\n",
    "for centre in centres:\n",
    "    try:\n",
    "        print(centre)\n",
    "        land_tr = shapely.ops.transform(translate(*centre), land)\n",
    "        land_tr = bounds.intersection(land_tr)\n",
    "        land_tr = shapely.ops.transform(gnom, land_tr)\n",
    "        plt.figure()\n",
    "        plot_land(land_tr)\n",
    "    except shapely.topology.TopologicalError:\n",
    "        pass"
   ]
  },
  {
   "cell_type": "code",
   "execution_count": null,
   "metadata": {
    "collapsed": false
   },
   "outputs": [],
   "source": [
    "points = numpy.array([[-90, 0, 5, 10, 45, 90, 180, 270],\n",
    "                     [-45, 0, 35, -45, 41, -25, -30, 80]])\n",
    "\n",
    "def remap(longitude, latitude):\n",
    "    \"\"\" Maps latitudes and longitudes onto the correct values\n",
    "    \"\"\"\n",
    "    longitude, latitude = numpy.asarray(longitude), numpy.asarray(latitude)\n",
    "    longitude[longitude > 180] -= 360\n",
    "    longitude[longitude < -180] += 360\n",
    "    latitude[latitude > 90] -= 180\n",
    "    latitude[latitude < -90] += 180\n",
    "    return longitude, latitude\n",
    "\n",
    "def translate(dx, dy):\n",
    "    \"\"\" Returns a transformation which translates the \n",
    "        map through a given change in longitude and latitude.\n",
    "    \"\"\"\n",
    "    dx, dy = remap(dx, dy)\n",
    "    def _transform(x, y):\n",
    "        return remap(x + dx, y + dy)\n",
    "    return _transform"
   ]
  },
  {
   "cell_type": "code",
   "execution_count": null,
   "metadata": {
    "collapsed": false
   },
   "outputs": [],
   "source": [
    "shapely.ops.transform(translate(32, 90), land)"
   ]
  },
  {
   "cell_type": "code",
   "execution_count": null,
   "metadata": {
    "collapsed": false
   },
   "outputs": [],
   "source": [
    "faces = construct_face_polygons()\n",
    "land_segments = []\n",
    "for idx, face in enumerate(faces):\n",
    "    try:\n",
    "        land_segments.append(land.intersection(face))\n",
    "    except shapely.topology.TopologicalError:\n",
    "        try:\n",
    "            # We need to rotate to try doing things again, so rotate data\n",
    "            # to the centre of the face\n",
    "            cx, cy = numpy.degrees(cartesian_to_spherical(proj.face_centres[idx])).ravel()\n",
    "            forwards = translate(-cx, -cy)\n",
    "            backwards = translate(cx, cy)\n",
    "            land_tr = shapely.ops.transform(forwards, land)\n",
    "            face_tr = shapely.ops.transform(forwards, face)\n",
    "            intersection = face_tr.intersection(land_tr)\n",
    "            land_segments.append(\n",
    "                shapely.ops.transform(backwards, \n",
    "                                      intersection))\n",
    "        except shapely.topology.TopologicalError:\n",
    "            pass\n",
    "        \n"
   ]
  },
  {
   "cell_type": "code",
   "execution_count": null,
   "metadata": {
    "collapsed": false
   },
   "outputs": [],
   "source": [
    "make_map(bbox)\n",
    "axes = plt.gca()\n",
    "cmap = plt.get_cmap('coolwarm')\n",
    "for idx, multipoly in enumerate(land_segments):    \n",
    "    # Plot the polygon\n",
    "    color = cmap(idx / len(proj.faces))\n",
    "    for poly in multipoly:\n",
    "        axes.add_patch(descartes.PolygonPatch(\n",
    "                poly, facecolor=color, edgecolor=color, \n",
    "                alpha=0.9, zorder=3))"
   ]
  },
  {
   "cell_type": "code",
   "execution_count": null,
   "metadata": {
    "collapsed": true
   },
   "outputs": [],
   "source": []
  }
 ],
 "metadata": {
  "kernelspec": {
   "display_name": "Python 3",
   "language": "python",
   "name": "python3"
  },
  "language_info": {
   "codemirror_mode": {
    "name": "ipython",
    "version": 3
   },
   "file_extension": ".py",
   "mimetype": "text/x-python",
   "name": "python",
   "nbconvert_exporter": "python",
   "pygments_lexer": "ipython3",
   "version": "3.4.3"
  }
 },
 "nbformat": 4,
 "nbformat_minor": 0
}
